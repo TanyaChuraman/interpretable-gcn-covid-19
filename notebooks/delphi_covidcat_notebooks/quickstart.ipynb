{
 "cells": [
  {
   "cell_type": "code",
   "execution_count": 2,
   "metadata": {
    "collapsed": true
   },
   "outputs": [
    {
     "name": "stdout",
     "output_type": "stream",
     "text": [
      "    geo_value        signal time_value direction      issue  lag     value  \\\n",
      "0       01000  smoothed_cli 2020-05-01      None 2020-09-03  125  0.825410   \n",
      "1       01001  smoothed_cli 2020-05-01      None 2020-09-03  125  1.299425   \n",
      "2       01003  smoothed_cli 2020-05-01      None 2020-09-03  125  0.696597   \n",
      "3       01015  smoothed_cli 2020-05-01      None 2020-09-03  125  0.428271   \n",
      "4       01031  smoothed_cli 2020-05-01      None 2020-09-03  125  0.025579   \n",
      "..        ...           ...        ...       ...        ...  ...       ...   \n",
      "955     55141  smoothed_cli 2020-05-07      None 2020-09-03  119  0.433735   \n",
      "956     56000  smoothed_cli 2020-05-07      None 2020-09-03  119  0.972483   \n",
      "957     56001  smoothed_cli 2020-05-07      None 2020-09-03  119  1.383630   \n",
      "958     56021  smoothed_cli 2020-05-07      None 2020-09-03  119  1.534482   \n",
      "959     56025  smoothed_cli 2020-05-07      None 2020-09-03  119  1.220871   \n",
      "\n",
      "       stderr  sample_size geo_type data_source  \n",
      "0    0.136003    1722.4551   county   fb-survey  \n",
      "1    0.967136     115.8025   county   fb-survey  \n",
      "2    0.324753     584.3194   county   fb-survey  \n",
      "3    0.548566     122.5577   county   fb-survey  \n",
      "4    0.360827     114.8318   county   fb-survey  \n",
      "..        ...          ...      ...         ...  \n",
      "955  0.378823     199.9284   county   fb-survey  \n",
      "956  0.324898     604.1482   county   fb-survey  \n",
      "957  1.146508     100.6714   county   fb-survey  \n",
      "958  0.717901     276.9646   county   fb-survey  \n",
      "959  0.619561     238.8707   county   fb-survey  \n",
      "\n",
      "[7080 rows x 11 columns]\n"
     ]
    }
   ],
   "source": [
    "import covidcast\n",
    "from datetime import date\n",
    "\n",
    "data = covidcast.signal(\"fb-survey\", \"smoothed_cli\", date(2020, 5, 1), date(2020, 5, 7),\n",
    "                        \"county\")\n",
    "\n",
    "print(data)"
   ]
  },
  {
   "cell_type": "code",
   "execution_count": null,
   "outputs": [],
   "source": [],
   "metadata": {
    "collapsed": false,
    "pycharm": {
     "name": "#%%\n"
    }
   }
  }
 ],
 "metadata": {
  "kernelspec": {
   "display_name": "Python 3",
   "language": "python",
   "name": "python3"
  },
  "language_info": {
   "codemirror_mode": {
    "name": "ipython",
    "version": 2
   },
   "file_extension": ".py",
   "mimetype": "text/x-python",
   "name": "python",
   "nbconvert_exporter": "python",
   "pygments_lexer": "ipython2",
   "version": "2.7.6"
  }
 },
 "nbformat": 4,
 "nbformat_minor": 0
}